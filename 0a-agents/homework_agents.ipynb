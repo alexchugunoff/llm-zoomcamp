{
 "cells": [
  {
   "cell_type": "code",
   "execution_count": 21,
   "id": "6bcaf563-ae23-4b06-8efe-88e8e15780d1",
   "metadata": {},
   "outputs": [],
   "source": [
    "import random\n",
    "\n",
    "known_weather_data = {\n",
    "    'berlin': 20.0\n",
    "}\n",
    "\n",
    "def get_weather(city: str) -> float:\n",
    "    city = city.strip().lower()\n",
    "\n",
    "    if city in known_weather_data:\n",
    "        return known_weather_data[city]\n",
    "\n",
    "    return round(random.uniform(-5, 35), 1)"
   ]
  },
  {
   "cell_type": "markdown",
   "id": "a64aa10c-b4d8-4200-8109-2cd108d7a4c1",
   "metadata": {},
   "source": [
    "# Mistral client"
   ]
  },
  {
   "cell_type": "code",
   "execution_count": 2,
   "id": "c5fe6ef0-76b8-49d1-8e86-f0ec5a302b7c",
   "metadata": {},
   "outputs": [],
   "source": [
    "import os\n",
    "from mistralai import Mistral"
   ]
  },
  {
   "cell_type": "code",
   "execution_count": 3,
   "id": "c638ce10-25c9-470a-a09a-389431633dda",
   "metadata": {},
   "outputs": [],
   "source": [
    "api_key = os.environ[\"MISTRAL_API_KEY\"]\n",
    "model = \"mistral-large-latest\"\n",
    "\n",
    "client = Mistral(api_key=api_key)"
   ]
  },
  {
   "cell_type": "code",
   "execution_count": null,
   "id": "dfa15934-14bf-4efd-9840-6f7756470213",
   "metadata": {},
   "outputs": [],
   "source": [
    "# chat_response = client.chat.complete(\n",
    "#     model= model,\n",
    "#     messages = [\n",
    "#         {\n",
    "#             \"role\": \"user\",\n",
    "#             \"content\": \"is it too late to join the course?\",\n",
    "#         },\n",
    "#     ]\n",
    "# )\n",
    "# print(chat_response.choices[0].message.content)"
   ]
  },
  {
   "cell_type": "markdown",
   "id": "c4cb3431-2ea1-4d02-94d2-b75d692cdd7d",
   "metadata": {},
   "source": [
    "# Q1"
   ]
  },
  {
   "cell_type": "code",
   "execution_count": null,
   "id": "ec187e2c-d17e-4238-899c-78b6d6585687",
   "metadata": {},
   "outputs": [],
   "source": [
    "# What did you put in TODO3?"
   ]
  },
  {
   "cell_type": "code",
   "execution_count": null,
   "id": "8859e6a9-96b5-4b4a-93aa-00a3b3c7c746",
   "metadata": {},
   "outputs": [],
   "source": [
    "get_weather_tool = {\n",
    "    \"type\": \"function\",\n",
    "    \"name\": \"get_weather\",\n",
    "    \"description\": \"get weather data\",\n",
    "    \"parameters\": {\n",
    "        \"type\": \"object\",\n",
    "        \"properties\": {\n",
    "            \"city\": {\n",
    "                \"type\": \"string\",\n",
    "                \"description\": \"search weather in knowledge base\"\n",
    "            }\n",
    "        },\n",
    "        \"required\": [\"city\"],\n",
    "        \"additionalProperties\": False\n",
    "    }\n",
    "}"
   ]
  },
  {
   "cell_type": "code",
   "execution_count": null,
   "id": "57b0c96a-0194-47fb-90bc-bd0a4a700097",
   "metadata": {},
   "outputs": [],
   "source": [
    "\"city\""
   ]
  },
  {
   "cell_type": "markdown",
   "id": "3196dcdd-489f-45ba-a377-5378aab8d4bb",
   "metadata": {},
   "source": [
    "# Q2"
   ]
  },
  {
   "cell_type": "code",
   "execution_count": null,
   "id": "a4376a6b-e9e8-4cf2-bfa7-6fd88d90e068",
   "metadata": {},
   "outputs": [],
   "source": [
    "# Let's add another tool "
   ]
  },
  {
   "cell_type": "code",
   "execution_count": null,
   "id": "0a90bb6c-3602-477e-ba59-da83985c9658",
   "metadata": {},
   "outputs": [],
   "source": [
    "def set_weather(city: str, temp: float) -> None:\n",
    "    city = city.strip().lower()\n",
    "    known_weather_data[city] = temp\n",
    "    return 'OK'"
   ]
  },
  {
   "cell_type": "code",
   "execution_count": null,
   "id": "7495a8c3-ac7a-4a14-86c8-8eeb54621d95",
   "metadata": {},
   "outputs": [],
   "source": [
    "# description\n",
    "set_weather_tool = {\n",
    "    \"type\": \"function\",\n",
    "    \"name\": \"set_weather\",\n",
    "    \"description\": \"set weather for city\",\n",
    "    \"parameters\": {\n",
    "        \"type\": \"object\",\n",
    "        \"properties\": {\n",
    "            \"query\": {\n",
    "                \"type\": \"string\",\n",
    "                \"description\": \"add city and its weather to knowledge base\"\n",
    "            }\n",
    "        },\n",
    "        \"required\": [\"query\"],\n",
    "        \"additionalProperties\": False\n",
    "    }\n",
    "}"
   ]
  },
  {
   "cell_type": "markdown",
   "id": "0b77da42-97c8-4aea-87de-5ac543736c0f",
   "metadata": {},
   "source": [
    "# Q3"
   ]
  },
  {
   "cell_type": "code",
   "execution_count": 2,
   "id": "48f3412d-ab4c-4bc3-8bea-1b27f2bc2fa9",
   "metadata": {},
   "outputs": [
    {
     "name": "stdout",
     "output_type": "stream",
     "text": [
      "\u001b[39;49m2.10.5\u001b[0m\n"
     ]
    }
   ],
   "source": [
    "!fastmcp --version"
   ]
  },
  {
   "cell_type": "markdown",
   "id": "53ef5794-f656-4ca3-a4b8-f42d74c71795",
   "metadata": {},
   "source": [
    "# Q4"
   ]
  },
  {
   "cell_type": "code",
   "execution_count": 20,
   "id": "368e9782-2792-4b77-8d4a-d9f8a4a7ebcf",
   "metadata": {},
   "outputs": [],
   "source": [
    "from fastmcp import FastMCP\n",
    "\n",
    "mcp = FastMCP(\"Demo 🚀\")\n",
    "\n",
    "@mcp.tool\n",
    "def get_weather(city: str) -> float:\n",
    "    \"\"\"\n",
    "    Retrieves the temperature for a specified city.\n",
    "\n",
    "    Parameters:\n",
    "        city (str): The name of the city for which to retrieve weather data.\n",
    "\n",
    "    Returns:\n",
    "        float: The temperature associated with the city.\n",
    "    \"\"\"\n",
    "    city = city.strip().lower()\n",
    "\n",
    "    if city in known_weather_data:\n",
    "        return known_weather_data[city]\n",
    "\n",
    "    return round(random.uniform(-5, 35), 1)\n",
    "\n",
    "@mcp.tool\n",
    "def set_weather(city: str, temp: float) -> None:\n",
    "    \"\"\"\n",
    "    Sets the temperature for a specified city.\n",
    "\n",
    "    Parameters:\n",
    "        city (str): The name of the city for which to set the weather data.\n",
    "        temp (float): The temperature to associate with the city.\n",
    "\n",
    "    Returns:\n",
    "        str: A confirmation string 'OK' indicating successful update.\n",
    "    \"\"\"\n",
    "    city = city.strip().lower()\n",
    "    known_weather_data[city] = temp\n",
    "    return 'OK'"
   ]
  },
  {
   "cell_type": "code",
   "execution_count": null,
   "id": "fcf5f253-e5db-42af-beb1-ae0f01f85342",
   "metadata": {},
   "outputs": [],
   "source": [
    "# Starting MCP server 'Demo 🚀' with transport '<TODO>'\n",
    "# What do you have instead of <TODO>?\n",
    "stdio"
   ]
  },
  {
   "cell_type": "markdown",
   "id": "ae946735-ce69-4690-9cb7-c1856d332989",
   "metadata": {},
   "source": [
    "# Q5"
   ]
  },
  {
   "cell_type": "code",
   "execution_count": null,
   "id": "0774500a-0f95-4b9d-83c6-bfa11049559e",
   "metadata": {},
   "outputs": [],
   "source": [
    "# Request\n",
    "# {\"jsonrpc\": \"2.0\", \"id\": 3, \"method\": \"tools/call\", \"params\": {\"name\": \"get_weather\", \"arguments\": {\"city\": \"berlin\"}}}\n",
    "\n",
    "# Response\n",
    "{\"jsonrpc\":\"2.0\",\"id\":3,\"result\":{\"content\":[{\"type\":\"text\",\"text\":\"20.0\"}],\"structuredContent\":{\"result\":20.0},\"isError\":false}}"
   ]
  },
  {
   "cell_type": "markdown",
   "id": "fdfee3d4-fdcb-48cd-bd58-9ec63cb5b1d4",
   "metadata": {},
   "source": [
    "# Q6"
   ]
  },
  {
   "cell_type": "code",
   "execution_count": 32,
   "id": "4e7d39c9-b39e-4a87-b369-3365dcb7d906",
   "metadata": {},
   "outputs": [],
   "source": [
    "from fastmcp import Client\n",
    "import asyncio\n",
    "import mcp_server\n",
    "\n",
    "async def main():\n",
    "    async with Client(mcp_server.mcp) as mcp_client:        \n",
    "        result = await mcp_client.call_tool(\"get_weather\", {\"city\": \"berlin\"})\n",
    "        return result\n",
    "\n",
    "if __name__ == \"__main__\":\n",
    "    test = asyncio.run(main())\n",
    "    print(test)"
   ]
  },
  {
   "cell_type": "code",
   "execution_count": null,
   "id": "bd6f2a13-783b-4d0d-bd1a-412c9fad6165",
   "metadata": {},
   "outputs": [],
   "source": [
    "# Response\n",
    "CallToolResult(content=[TextContent(type='text', text='20.0', annotations=None, meta=None)], structured_content={'result': 20.0}, data=20.0, is_error=False)"
   ]
  }
 ],
 "metadata": {
  "kernelspec": {
   "display_name": "Python 3 (ipykernel)",
   "language": "python",
   "name": "python3"
  },
  "language_info": {
   "codemirror_mode": {
    "name": "ipython",
    "version": 3
   },
   "file_extension": ".py",
   "mimetype": "text/x-python",
   "name": "python",
   "nbconvert_exporter": "python",
   "pygments_lexer": "ipython3",
   "version": "3.12.1"
  }
 },
 "nbformat": 4,
 "nbformat_minor": 5
}
