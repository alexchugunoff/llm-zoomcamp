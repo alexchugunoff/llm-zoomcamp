{
 "cells": [
  {
   "cell_type": "markdown",
   "id": "0b17f31b-1884-47dc-be70-7dd63cf3ec74",
   "metadata": {},
   "source": [
    "# Imports"
   ]
  },
  {
   "cell_type": "code",
   "execution_count": 1,
   "id": "4c19eed7-7813-461a-85b9-c22dec27f297",
   "metadata": {},
   "outputs": [],
   "source": [
    "import dlt\n",
    "import requests\n",
    "import pandas as pd\n",
    "from datetime import datetime"
   ]
  },
  {
   "cell_type": "markdown",
   "id": "6d219e4f-95b7-4e24-bc2c-11c429aaec68",
   "metadata": {},
   "source": [
    "# Q1"
   ]
  },
  {
   "cell_type": "code",
   "execution_count": 2,
   "id": "ef94a231-e30c-4a54-b567-187c841084a8",
   "metadata": {},
   "outputs": [],
   "source": [
    "# What's the version of dlt that you installed?"
   ]
  },
  {
   "cell_type": "code",
   "execution_count": 3,
   "id": "509b600d-8f05-4ed3-a549-028f5fb23af7",
   "metadata": {},
   "outputs": [
    {
     "name": "stdout",
     "output_type": "stream",
     "text": [
      "\u001b[39mdlt 1.14.1\u001b[0m\n"
     ]
    }
   ],
   "source": [
    "!dlt --version"
   ]
  },
  {
   "cell_type": "markdown",
   "id": "6daedf81-b5b6-4824-a4dd-8ee0ab3095c4",
   "metadata": {},
   "source": [
    "# Q2"
   ]
  },
  {
   "cell_type": "code",
   "execution_count": 2,
   "id": "b0d93c77-3bc5-4524-b963-c44fe802ea24",
   "metadata": {},
   "outputs": [],
   "source": [
    "from dlt.destinations import qdrant"
   ]
  },
  {
   "cell_type": "code",
   "execution_count": 4,
   "id": "dcb81cc6-39a0-4b5a-b28c-d00dd13e5dc3",
   "metadata": {},
   "outputs": [],
   "source": [
    "# dir(qdrant)"
   ]
  },
  {
   "cell_type": "code",
   "execution_count": null,
   "id": "6a993e93-34c4-488a-b21e-184b7f8bf28a",
   "metadata": {},
   "outputs": [],
   "source": [
    "@dlt.resource(write_disposition=\"replace\", name=\"zoomcamp_data\")\n",
    "def zoomcamp_data():\n",
    "    docs_url = 'https://github.com/alexeygrigorev/llm-rag-workshop/raw/main/notebooks/documents.json'\n",
    "    docs_response = requests.get(docs_url)\n",
    "    documents_raw = docs_response.json()\n",
    "\n",
    "    for course in documents_raw:\n",
    "        course_name = course['course']\n",
    "\n",
    "        for doc in course['documents']:\n",
    "            doc['course'] = course_name\n",
    "            yield doc\n",
    "\n",
    "from dlt.destinations import qdrant\n",
    "\n",
    "qdrant_destination = qdrant(\n",
    "  qd_path=\"db.qdrant\", \n",
    ")\n",
    "\n",
    "from dlt.destinations.adapters import qdrant_adapter\n",
    "\n",
    "pipeline = dlt.pipeline(\n",
    "    pipeline_name=\"zoomcamp_pipeline\",\n",
    "    destination=qdrant_destination,\n",
    "    dataset_name=\"zoomcamp_tagged_data\"\n",
    ")\n",
    "\n",
    "# load_info = pipeline.run(zoomcamp_data())\n",
    "# print(pipeline.last_trace)\n",
    "\n",
    "load_info = pipeline.run(\n",
    "    qdrant_adapter(zoomcamp_data(), embed=[\"text\", \"section\", \"question\"])\n",
    ")\n",
    "print(pipeline.last_trace)\n",
    "\n",
    "dataset = pipeline.dataset().zoomcamp_data.df()"
   ]
  },
  {
   "cell_type": "code",
   "execution_count": 5,
   "id": "33ea18e9-3595-449d-be37-0961e1b60673",
   "metadata": {},
   "outputs": [],
   "source": [
    "@dlt.resource(write_disposition=\"replace\", name=\"zoomcamp_data\")\n",
    "def zoomcamp_data():\n",
    "    docs_url = 'https://github.com/alexeygrigorev/llm-rag-workshop/raw/main/notebooks/documents.json'\n",
    "    docs_response = requests.get(docs_url)\n",
    "    documents_raw = docs_response.json()\n",
    "\n",
    "    for course in documents_raw:\n",
    "        course_name = course['course']\n",
    "\n",
    "        for doc in course['documents']:\n",
    "            doc['course'] = course_name\n",
    "            yield doc"
   ]
  },
  {
   "cell_type": "code",
   "execution_count": 6,
   "id": "f457d56f-c8a4-439d-b364-f2d416a1b6ea",
   "metadata": {},
   "outputs": [],
   "source": [
    "from dlt.destinations import qdrant\n",
    "\n",
    "qdrant_destination = qdrant(\n",
    "  qd_path=\"db.qdrant\", \n",
    ")"
   ]
  },
  {
   "cell_type": "code",
   "execution_count": 7,
   "id": "28ce43d3-22e9-478c-ae37-137a699c4693",
   "metadata": {},
   "outputs": [
    {
     "name": "stderr",
     "output_type": "stream",
     "text": [
      "/usr/local/python/3.12.1/lib/python3.12/site-packages/tqdm/auto.py:21: TqdmWarning: IProgress not found. Please update jupyter and ipywidgets. See https://ipywidgets.readthedocs.io/en/stable/user_install.html\n",
      "  from .autonotebook import tqdm as notebook_tqdm\n"
     ]
    },
    {
     "name": "stdout",
     "output_type": "stream",
     "text": [
      "Run started at 2025-07-19 20:02:28.289581+00:00 and COMPLETED in 3 minutes and 57.81 seconds with 4 steps.\n",
      "Step extract COMPLETED in 0.55 seconds.\n",
      "\n",
      "Load package 1752955349.870657 is EXTRACTED and NOT YET LOADED to the destination and contains no failed jobs\n",
      "\n",
      "Step normalize COMPLETED in 0.07 seconds.\n",
      "Normalized data for the following tables:\n",
      "- zoomcamp_data: 948 row(s)\n",
      "\n",
      "Load package 1752955349.870657 is NORMALIZED and NOT YET LOADED to the destination and contains no failed jobs\n",
      "\n",
      "Step load COMPLETED in 3 minutes and 55.62 seconds.\n",
      "Pipeline zoomcamp_pipeline load step completed in 3 minutes and 55.60 seconds\n",
      "1 load package(s) were loaded to destination qdrant and into dataset zoomcamp_tagged_data\n",
      "The qdrant destination used /workspaces/llm-zoomcamp/0b-dlt/db.qdrant location to store data\n",
      "Load package 1752955349.870657 is LOADED and contains no failed jobs\n",
      "\n",
      "Step run COMPLETED in 3 minutes and 57.80 seconds.\n",
      "Pipeline zoomcamp_pipeline load step completed in 3 minutes and 55.60 seconds\n",
      "1 load package(s) were loaded to destination qdrant and into dataset zoomcamp_tagged_data\n",
      "The qdrant destination used /workspaces/llm-zoomcamp/0b-dlt/db.qdrant location to store data\n",
      "Load package 1752955349.870657 is LOADED and contains no failed jobs\n",
      "CPU times: user 2.51 s, sys: 1.37 s, total: 3.89 s\n",
      "Wall time: 3min 58s\n"
     ]
    }
   ],
   "source": [
    "from dlt.destinations.adapters import qdrant_adapter\n",
    "\n",
    "pipeline = dlt.pipeline(\n",
    "    pipeline_name=\"zoomcamp_pipeline\",\n",
    "    destination=qdrant_destination,\n",
    "    dataset_name=\"zoomcamp_tagged_data\"\n",
    ")\n",
    "\n",
    "# load_info = pipeline.run(zoomcamp_data())\n",
    "# print(pipeline.last_trace)\n",
    "\n",
    "load_info = pipeline.run(\n",
    "    qdrant_adapter(zoomcamp_data(), embed=[\"text\", \"section\", \"question\"])\n",
    ")\n",
    "print(pipeline.last_trace)"
   ]
  },
  {
   "cell_type": "code",
   "execution_count": 27,
   "id": "177d76b2-fe4d-48f2-b063-b75dd8d89ebb",
   "metadata": {},
   "outputs": [
    {
     "data": {
      "text/plain": [
       "948"
      ]
     },
     "execution_count": 27,
     "metadata": {},
     "output_type": "execute_result"
    }
   ],
   "source": [
    "# How many rows were inserted into the zoomcamp_data collection?\n",
    "from qdrant_client import QdrantClient\n",
    "\n",
    "client = QdrantClient(path=\"db.qdrant\") \n",
    "client.get_collection(\"zoomcamp_tagged_data_zoomcamp_data\").points_count"
   ]
  },
  {
   "cell_type": "markdown",
   "id": "4ce5ea58-e7df-4a10-ac8e-a3e0cdf80102",
   "metadata": {},
   "source": [
    "# Q3"
   ]
  },
  {
   "cell_type": "code",
   "execution_count": null,
   "id": "975aa21a-5221-4cd8-868a-843acfb98410",
   "metadata": {},
   "outputs": [],
   "source": [
    "# When inserting the data, an embedding model was used. Which one?\n",
    "fast-bge-small-en"
   ]
  }
 ],
 "metadata": {
  "kernelspec": {
   "display_name": "Python 3 (ipykernel)",
   "language": "python",
   "name": "python3"
  },
  "language_info": {
   "codemirror_mode": {
    "name": "ipython",
    "version": 3
   },
   "file_extension": ".py",
   "mimetype": "text/x-python",
   "name": "python",
   "nbconvert_exporter": "python",
   "pygments_lexer": "ipython3",
   "version": "3.12.1"
  }
 },
 "nbformat": 4,
 "nbformat_minor": 5
}
